{
 "cells": [
  {
   "cell_type": "code",
   "execution_count": 48,
   "id": "0689d1c4",
   "metadata": {},
   "outputs": [],
   "source": [
    "\n",
    "class Student:\n",
    "    def __init__(self, name, marks):\n",
    "        self.name = name\n",
    "        self.marks = marks\n",
    "\n",
    "        \n",
    "    def is_passed(self):\n",
    "        avgMarks =  sum(self.marks)/len(self.marks)\n",
    "        if (avgMarks > 50):\n",
    "            return True\n",
    "        else:\n",
    "            return False"
   ]
  },
  {
   "cell_type": "code",
   "execution_count": 52,
   "id": "118d1c0c",
   "metadata": {},
   "outputs": [
    {
     "name": "stdout",
     "output_type": "stream",
     "text": [
      "False\n",
      "True\n"
     ]
    }
   ],
   "source": [
    "b1 = Student('Antoni',[1,3,5,6,4,3])\n",
    "b2 = Student('Jerzy',[6,66,727])\n",
    "\n",
    "print(b1.is_passed())\n",
    "print(b2.is_passed())"
   ]
  },
  {
   "cell_type": "code",
   "execution_count": 66,
   "id": "6f81ae25",
   "metadata": {},
   "outputs": [],
   "source": [
    "class Library:\n",
    "    def __init__(self, city, street, zip_code, open_hours, phone):\n",
    "        self.city = city\n",
    "        self.street=street\n",
    "        self.zip_code = zip_code\n",
    "        self.open_hours = open_hours\n",
    "        self.phone = phone\n",
    "    def __str__(self):\n",
    "        return f\"{self.city}\\n{self.street}\\n{self.zip_code}\\n{self.open_hours}m{self.phone}\"\n",
    "        \n",
    "        \n",
    "class Employee:\n",
    "    def __init__(self, first_name, last_name, hire_date, birth_date, city, street, zip_code, phone):\n",
    "        self.first_name = first_name\n",
    "        self.last_name = last_name\n",
    "        self.hire_date = hire_date\n",
    "        self.birth_date = birth_date\n",
    "        self.city = city\n",
    "        self.street = street\n",
    "        self.zip_code = zip_code\n",
    "        self.phone = phone\n",
    "        \n",
    "    def __str__(self):\n",
    "        return f\"{self.first_name}\\n{self.last_name}\\n{self.hire_date}\\n{self.birth_date}\\n{self.city}\\n{self.street}\\n{self.zip_code}\\n{self.phone}\"\n",
    "        \n",
    "class Book:\n",
    "    def __init__(self, library, publication_date, author_name, author_surname, number_of_pages):\n",
    "        self.library = library\n",
    "        self.publication_date =publication_date\n",
    "        self.author_name=author_name\n",
    "        self.author_surname=author_surname\n",
    "        self.number_of_pages = number_of_pages\n",
    "    \n",
    "    def __str__(self):\n",
    "        return f\"{self.library}\\n{self.publication_date}\\n{self.author_name}\\n{self.author_surname}\\n{self.number_of_pages}\"\n",
    "        \n",
    "class Order:\n",
    "    def __init__(self, employee, student, books, order_date):\n",
    "        self.employee = employee\n",
    "        self.student=student\n",
    "        self.books = books\n",
    "        self.order_date = order_date\n",
    "    def __str__(self):\n",
    "        return f\"{self.employee}\\n{self.student}\\n{self.books}\\n{self.order_date}\"\n",
    "        \n",
    "        "
   ]
  },
  {
   "cell_type": "code",
   "execution_count": 71,
   "id": "77ab904c",
   "metadata": {},
   "outputs": [],
   "source": [
    "L1 = Library('miasto a','ulica b','00-000','8:00-17:00','+00 000 000 000')\n",
    "L2 = Library('miasto c','ulica d','11-110','6:00-17:00','+04 200 000 000')\n",
    "book1 = Book(L1,'1998','a','b','727')\n",
    "book2 = Book(L2,'1992','a','b','727')\n",
    "book3 = Book(L1,'1994','a','c','757')\n",
    "book4 = Book(L2,'1994','a','b','727')\n",
    "book5 = Book(L1,'1991','a','b','727')\n",
    "empl1 = Employee('a','b','x','x','x','x','x','x')\n",
    "empl2 = Employee('aa','bb','x','x','x','x','x','x')\n",
    "empl3 = Employee('aaa','bbb','x','x','x','x','x','x')\n",
    "\n",
    "or1 = Order(empl1,'Jerzy Brodzik',[book1,book3,book4],'0000-00-00')\n",
    "or2 = Order(empl3,'Andrzej E.',[book2,book5],'0000-00-00')\n"
   ]
  },
  {
   "cell_type": "code",
   "execution_count": 78,
   "id": "b564c55c",
   "metadata": {},
   "outputs": [],
   "source": [
    "class Property:\n",
    "    def __init__(self, area, rooms, price, address):\n",
    "        self.area = area\n",
    "        self.rooms = rooms\n",
    "        self.price = price\n",
    "        self.address = address\n",
    "    \n",
    "    def __str__(self):\n",
    "        return f\"{self.area}\\n{self.rooms}\\n{self.price}\\n{self.address}\"\n",
    "    \n",
    "class House(Property):\n",
    "    def __init__(self, area, rooms, price, address, plot):\n",
    "        self.area = area\n",
    "        self.rooms = rooms\n",
    "        self.price = price\n",
    "        self.address = address\n",
    "        self.plot = plot\n",
    "        \n",
    "    def __str__(self):\n",
    "        return f\"{self.area}\\n{self.rooms}\\n{self.price}\\n{self.address}\\n{self.plot}\"    \n",
    "    \n",
    "class Flat(Property):\n",
    "    def __init__(self, area, rooms, price, address, floor):\n",
    "        self.area = area\n",
    "        self.rooms = rooms\n",
    "        self.price = price\n",
    "        self.address = address\n",
    "        self.floor = floor\n",
    "        \n",
    "    def __str__(self):\n",
    "        return f\"{self.area}\\n{self.rooms}\\n{self.price}\\n{self.address}\\n{self.floor}\"   \n",
    "    \n",
    "    "
   ]
  },
  {
   "cell_type": "code",
   "execution_count": 81,
   "id": "18af8e6a",
   "metadata": {},
   "outputs": [
    {
     "name": "stdout",
     "output_type": "stream",
     "text": [
      "NYC\n",
      "2\n",
      "4299000 USD\n",
      "EEE\n",
      "4\n",
      "AR\n",
      "9\n",
      "8999999 AUD\n",
      "TTT\n",
      "14000\n"
     ]
    }
   ],
   "source": [
    "pos1 = Flat('NYC',2,'4299000 USD','EEE',4)\n",
    "pos2 = House('AR',9,'8999999 AUD', 'TTT',14000)\n",
    "\n",
    "print(pos1)\n",
    "print(pos2)"
   ]
  }
 ],
 "metadata": {
  "kernelspec": {
   "display_name": "Python 3 (ipykernel)",
   "language": "python",
   "name": "python3"
  },
  "language_info": {
   "codemirror_mode": {
    "name": "ipython",
    "version": 3
   },
   "file_extension": ".py",
   "mimetype": "text/x-python",
   "name": "python",
   "nbconvert_exporter": "python",
   "pygments_lexer": "ipython3",
   "version": "3.9.12"
  }
 },
 "nbformat": 4,
 "nbformat_minor": 5
}
