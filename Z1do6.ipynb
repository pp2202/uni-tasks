{
 "cells": [
  {
   "cell_type": "code",
   "execution_count": 39,
   "id": "bda43bed",
   "metadata": {},
   "outputs": [
    {
     "name": "stdout",
     "output_type": "stream",
     "text": [
      "Cześć Conrad Norman!\n"
     ]
    }
   ],
   "source": [
    "def theReturnOfString(name: str, surname: str):\n",
    "    wynik = 'Cześć {} {}!'.format(name,surname)\n",
    "    return wynik\n",
    "\n",
    "dOsob = theReturnOfString('Conrad','Norman')\n",
    "print(dOsob)"
   ]
  },
  {
   "cell_type": "code",
   "execution_count": 41,
   "id": "b2216031",
   "metadata": {},
   "outputs": [
    {
     "name": "stdout",
     "output_type": "stream",
     "text": [
      "20\n"
     ]
    }
   ],
   "source": [
    "def totallyNotMultiply(x: int, y: int):\n",
    "    return x*y\n",
    "\n",
    "print(totallyNotMultiply(4,5))"
   ]
  },
  {
   "cell_type": "code",
   "execution_count": 53,
   "id": "9db07191",
   "metadata": {},
   "outputs": [
    {
     "name": "stdout",
     "output_type": "stream",
     "text": [
      "Liczba nieparzysta\n"
     ]
    }
   ],
   "source": [
    "def isItReally(x):\n",
    "    if x%2==0:\n",
    "        a = True\n",
    "    else:\n",
    "        a = False\n",
    "    return a\n",
    "\n",
    "\n",
    "if isItReally(31) == True:\n",
    "    print('Liczba parzysta')\n",
    "else:\n",
    "    print('Liczba nieparzysta')"
   ]
  },
  {
   "cell_type": "code",
   "execution_count": 55,
   "id": "f1ccac62",
   "metadata": {},
   "outputs": [
    {
     "name": "stdout",
     "output_type": "stream",
     "text": [
      "True\n"
     ]
    }
   ],
   "source": [
    "def sumCheck(x: int, y: int, z: int):\n",
    "    if (x+y>=z):\n",
    "        a = True\n",
    "    else:\n",
    "        a = False\n",
    "    return a\n",
    "\n",
    "\n",
    "print(sumCheck(123,12,44))"
   ]
  },
  {
   "cell_type": "code",
   "execution_count": 58,
   "id": "fda41424",
   "metadata": {},
   "outputs": [
    {
     "name": "stdout",
     "output_type": "stream",
     "text": [
      "False\n"
     ]
    }
   ],
   "source": [
    "def checkIfListContains(inputList: list, x: int):\n",
    "    if x in inputList:\n",
    "        return True\n",
    "    else:\n",
    "        return False\n",
    "    \n",
    "print(checkIfListContains([13,15,123,1424,123,132,131],5))"
   ]
  },
  {
   "cell_type": "code",
   "execution_count": 60,
   "id": "36371126",
   "metadata": {},
   "outputs": [
    {
     "name": "stdout",
     "output_type": "stream",
     "text": [
      "[3375, 2887553024, 2248091, 2197, 3375, 1860867, 2887553024, 1860867, 2299968, 2248091, 85184, 132651, 17984728, 27, 1]\n"
     ]
    }
   ],
   "source": [
    "def mergeList(l1: list, l2: list):\n",
    "    for x in l1:\n",
    "        for y in l2:\n",
    "            if (x == y):\n",
    "                l1.remove(x)\n",
    "    l3 = l1+l2\n",
    "    l3 = [pow(x,3) for x in l3]\n",
    "    return l3\n",
    "\n",
    "print(mergeList([13,15,123,1424,123,132,131],[13,15,123,1424,123,132,131,44,51,262,3,1]))"
   ]
  }
 ],
 "metadata": {
  "kernelspec": {
   "display_name": "Python 3 (ipykernel)",
   "language": "python",
   "name": "python3"
  },
  "language_info": {
   "codemirror_mode": {
    "name": "ipython",
    "version": 3
   },
   "file_extension": ".py",
   "mimetype": "text/x-python",
   "name": "python",
   "nbconvert_exporter": "python",
   "pygments_lexer": "ipython3",
   "version": "3.9.12"
  }
 },
 "nbformat": 4,
 "nbformat_minor": 5
}
