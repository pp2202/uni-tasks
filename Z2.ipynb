{
 "cells": [
  {
   "cell_type": "code",
   "execution_count": 1,
   "id": "7480fe9d",
   "metadata": {},
   "outputs": [],
   "source": [
    "def collectNames(names):\n",
    "    if len(names) == 5:\n",
    "        for name in names:\n",
    "            print(name)"
   ]
  },
  {
   "cell_type": "code",
   "execution_count": 16,
   "id": "8389ac6c",
   "metadata": {},
   "outputs": [],
   "source": [
    "def collectNumbers(numbers):\n",
    "    if len(numbers)==5:\n",
    "        numbers_2 = []\n",
    "        for x in numbers:\n",
    "            numbers_2.append(x*2)\n",
    "        return numbers_2"
   ]
  },
  {
   "cell_type": "code",
   "execution_count": 18,
   "id": "bf94bf87",
   "metadata": {},
   "outputs": [],
   "source": [
    "def collectNumbersTwo(numbers):\n",
    "    if len(numbers)==5:\n",
    "        numbers_2 = [x*2 for x in numbers]\n",
    "    return numbers_2"
   ]
  },
  {
   "cell_type": "code",
   "execution_count": 23,
   "id": "b9a1e65a",
   "metadata": {},
   "outputs": [],
   "source": [
    "def steamedHams(numbers):\n",
    "    if len(numbers)==10:\n",
    "        numbers_2 = [x for x in numbers if x%2==0]\n",
    "    return numbers_2"
   ]
  },
  {
   "cell_type": "code",
   "execution_count": 31,
   "id": "10f54409",
   "metadata": {},
   "outputs": [],
   "source": [
    "def everyTwo(numbers):\n",
    "    if len(numbers)==10:\n",
    "        numbers_2 = [numbers[x] for x in range(1, len(numbers), 2)]\n",
    "    return numbers_2"
   ]
  }
 ],
 "metadata": {
  "kernelspec": {
   "display_name": "Python 3 (ipykernel)",
   "language": "python",
   "name": "python3"
  },
  "language_info": {
   "codemirror_mode": {
    "name": "ipython",
    "version": 3
   },
   "file_extension": ".py",
   "mimetype": "text/x-python",
   "name": "python",
   "nbconvert_exporter": "python",
   "pygments_lexer": "ipython3",
   "version": "3.9.12"
  }
 },
 "nbformat": 4,
 "nbformat_minor": 5
}
